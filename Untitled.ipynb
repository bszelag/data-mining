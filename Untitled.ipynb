{
 "cells": [
  {
   "cell_type": "markdown",
   "metadata": {},
   "source": [
    "### Load data into dataframe"
   ]
  },
  {
   "cell_type": "code",
   "execution_count": 73,
   "metadata": {},
   "outputs": [
    {
     "name": "stdout",
     "output_type": "stream",
     "text": [
      "      ACT_NOW  ADDRESSES_ON_CD  ADULT_SITE  ADVERT_CODE  ADVERT_CODE2  \\\n",
      "0           0                0           0            0             0   \n",
      "1           0                0           0            0             0   \n",
      "2           0                0           0            0             0   \n",
      "3           0                0           0            0             0   \n",
      "4           0                0           0            0             0   \n",
      "5           0                0           0            0             0   \n",
      "6           0                0           0            0             0   \n",
      "7           0                0           0            0             0   \n",
      "8           0                0           0            0             0   \n",
      "9           0                0           0            0             0   \n",
      "10          0                0           0            0             0   \n",
      "11          0                0           0            0             0   \n",
      "12          0                0           0            0             0   \n",
      "13          0                0           0            0             0   \n",
      "14          0                0           0            0             0   \n",
      "15          0                0           0            0             0   \n",
      "16          0                0           0            0             0   \n",
      "17          0                0           0            0             0   \n",
      "18          0                0           0            0             0   \n",
      "19          0                0           0            0             0   \n",
      "20          0                0           0            0             0   \n",
      "21          0                0           0            0             0   \n",
      "22          0                0           0            0             0   \n",
      "23          0                0           0            0             0   \n",
      "24          0                0           0            0             0   \n",
      "25          0                0           0            0             0   \n",
      "26          0                0           0            0             0   \n",
      "27          0                0           0            0             0   \n",
      "28          0                0           0            0             0   \n",
      "29          0                0           0            0             0   \n",
      "...       ...              ...         ...          ...           ...   \n",
      "4759        0                0           0            0             0   \n",
      "4760        0                0           0            0             0   \n",
      "4761        0                0           0            0             0   \n",
      "4762        0                0           0            0             0   \n",
      "4763        0                0           0            0             0   \n",
      "4764        0                0           0            0             0   \n",
      "4765        0                0           0            0             0   \n",
      "4766        0                0           0            0             0   \n",
      "4767        0                0           0            0             0   \n",
      "4768        0                0           0            0             0   \n",
      "4769        0                0           0            0             0   \n",
      "4770        0                0           0            0             0   \n",
      "4771        0                0           0            0             0   \n",
      "4772        0                0           0            0             0   \n",
      "4773        0                0           0            0             0   \n",
      "4774        0                0           0            0             0   \n",
      "4775        0                0           0            0             0   \n",
      "4776        0                0           0            0             0   \n",
      "4777        0                0           0            0             0   \n",
      "4778        0                0           0            0             0   \n",
      "4779        0                0           0            0             0   \n",
      "4780        0                0           0            0             0   \n",
      "4781        0                0           0            0             0   \n",
      "4782        0                0           0            0             0   \n",
      "4783        0                0           0            0             0   \n",
      "4784        0                0           0            0             0   \n",
      "4785        0                0           0            0             0   \n",
      "4786        0                0           0            0             0   \n",
      "4787        0                0           0            0             0   \n",
      "4788        0                0           0            0             0   \n",
      "\n",
      "      ALL_CAPS_HEADER  ALL_CAP_PORN  ALL_NATURAL  AMATEUR_PORN  AMAZING  \\\n",
      "0                   0             0            0             0        0   \n",
      "1                   0             0            0             0        0   \n",
      "2                   0             0            0             0        0   \n",
      "3                   0             0            0             0        0   \n",
      "4                   0             0            0             0        0   \n",
      "5                   0             1            0             0        0   \n",
      "6                   0             0            0             0        0   \n",
      "7                   0             0            0             0        0   \n",
      "8                   0             0            0             0        0   \n",
      "9                   0             0            0             0        0   \n",
      "10                  0             0            0             0        0   \n",
      "11                  0             0            0             0        0   \n",
      "12                  0             0            0             0        0   \n",
      "13                  0             0            0             0        0   \n",
      "14                  0             0            0             0        0   \n",
      "15                  0             0            0             0        0   \n",
      "16                  0             0            0             0        0   \n",
      "17                  0             0            0             0        0   \n",
      "18                  0             0            0             0        0   \n",
      "19                  0             0            0             0        0   \n",
      "20                  0             0            0             0        0   \n",
      "21                  0             0            0             0        0   \n",
      "22                  0             0            0             0        0   \n",
      "23                  0             0            0             0        0   \n",
      "24                  0             0            0             0        0   \n",
      "25                  0             0            0             0        0   \n",
      "26                  0             0            0             0        0   \n",
      "27                  0             0            0             0        0   \n",
      "28                  0             0            0             0        0   \n",
      "29                  0             0            0             0        0   \n",
      "...               ...           ...          ...           ...      ...   \n",
      "4759                0             0            0             0        0   \n",
      "4760                0             0            0             0        0   \n",
      "4761                0             0            0             0        0   \n",
      "4762                0             0            0             0        0   \n",
      "4763                0             0            0             0        0   \n",
      "4764                0             0            0             0        0   \n",
      "4765                0             0            0             0        0   \n",
      "4766                0             0            0             0        0   \n",
      "4767                0             0            0             0        0   \n",
      "4768                0             0            0             0        0   \n",
      "4769                0             0            0             0        0   \n",
      "4770                0             0            0             0        0   \n",
      "4771                0             0            0             0        0   \n",
      "4772                0             0            0             0        0   \n",
      "4773                0             0            0             0        0   \n",
      "4774                0             0            0             0        0   \n",
      "4775                0             0            1             0        0   \n",
      "4776                0             0            0             0        0   \n",
      "4777                0             0            0             0        0   \n",
      "4778                0             0            0             0        0   \n",
      "4779                0             0            0             0        0   \n",
      "4780                0             0            0             0        0   \n",
      "4781                0             0            0             0        0   \n",
      "4782                0             0            0             0        0   \n",
      "4783                0             0            0             0        0   \n",
      "4784                0             0            0             0        0   \n",
      "4785                0             0            0             0        0   \n",
      "4786                0             0            0             0        0   \n",
      "4787                0             0            0             0        0   \n",
      "4788                0             0            0             0        0   \n",
      "\n",
      "         ...       X_AUTH_WARNING  X_ENC_PRESENT  X_LIBRARY  \\\n",
      "0        ...                    1              0          0   \n",
      "1        ...                    0              0          0   \n",
      "2        ...                    0              0          0   \n",
      "3        ...                    1              0          0   \n",
      "4        ...                    1              0          0   \n",
      "5        ...                    0              0          0   \n",
      "6        ...                    1              0          0   \n",
      "7        ...                    1              0          0   \n",
      "8        ...                    1              0          0   \n",
      "9        ...                    1              0          0   \n",
      "10       ...                    0              0          0   \n",
      "11       ...                    0              0          0   \n",
      "12       ...                    1              0          0   \n",
      "13       ...                    1              0          0   \n",
      "14       ...                    1              0          0   \n",
      "15       ...                    1              0          0   \n",
      "16       ...                    0              0          0   \n",
      "17       ...                    1              0          0   \n",
      "18       ...                    0              0          0   \n",
      "19       ...                    0              0          0   \n",
      "20       ...                    0              0          0   \n",
      "21       ...                    1              0          0   \n",
      "22       ...                    0              0          0   \n",
      "23       ...                    0              0          0   \n",
      "24       ...                    0              0          0   \n",
      "25       ...                    1              0          0   \n",
      "26       ...                    0              0          0   \n",
      "27       ...                    1              0          0   \n",
      "28       ...                    0              0          0   \n",
      "29       ...                    0              0          0   \n",
      "...      ...                  ...            ...        ...   \n",
      "4759     ...                    0              0          0   \n",
      "4760     ...                    1              0          0   \n",
      "4761     ...                    1              0          0   \n",
      "4762     ...                    0              0          0   \n",
      "4763     ...                    1              0          0   \n",
      "4764     ...                    1              0          0   \n",
      "4765     ...                    0              0          0   \n",
      "4766     ...                    1              0          0   \n",
      "4767     ...                    0              0          0   \n",
      "4768     ...                    0              0          0   \n",
      "4769     ...                    1              0          0   \n",
      "4770     ...                    0              0          0   \n",
      "4771     ...                    1              0          0   \n",
      "4772     ...                    0              0          0   \n",
      "4773     ...                    0              0          0   \n",
      "4774     ...                    1              0          0   \n",
      "4775     ...                    1              0          0   \n",
      "4776     ...                    1              0          0   \n",
      "4777     ...                    0              0          0   \n",
      "4778     ...                    1              0          0   \n",
      "4779     ...                    0              0          0   \n",
      "4780     ...                    0              0          0   \n",
      "4781     ...                    0              0          0   \n",
      "4782     ...                    1              0          0   \n",
      "4783     ...                    1              0          0   \n",
      "4784     ...                    1              0          0   \n",
      "4785     ...                    1              0          0   \n",
      "4786     ...                    1              0          0   \n",
      "4787     ...                    0              0          0   \n",
      "4788     ...                    0              0          0   \n",
      "\n",
      "      X_LIST_UNSUBSCRIBE  X_MSMAIL_PRIORITY_HIGH  X_PRECEDENCE_REF  \\\n",
      "0                      0                       0                 0   \n",
      "1                      0                       0                 0   \n",
      "2                      0                       0                 0   \n",
      "3                      0                       0                 0   \n",
      "4                      0                       0                 0   \n",
      "5                      0                       0                 0   \n",
      "6                      0                       0                 0   \n",
      "7                      0                       0                 0   \n",
      "8                      0                       0                 0   \n",
      "9                      0                       0                 0   \n",
      "10                     0                       0                 0   \n",
      "11                     0                       0                 0   \n",
      "12                     0                       0                 0   \n",
      "13                     0                       0                 0   \n",
      "14                     0                       0                 0   \n",
      "15                     0                       0                 0   \n",
      "16                     0                       0                 0   \n",
      "17                     0                       0                 0   \n",
      "18                     0                       0                 0   \n",
      "19                     0                       0                 0   \n",
      "20                     0                       0                 0   \n",
      "21                     0                       0                 0   \n",
      "22                     0                       0                 0   \n",
      "23                     0                       0                 0   \n",
      "24                     0                       0                 0   \n",
      "25                     0                       0                 0   \n",
      "26                     0                       0                 0   \n",
      "27                     0                       0                 0   \n",
      "28                     0                       0                 0   \n",
      "29                     1                       0                 0   \n",
      "...                  ...                     ...               ...   \n",
      "4759                   1                       0                 0   \n",
      "4760                   0                       0                 0   \n",
      "4761                   0                       0                 0   \n",
      "4762                   0                       0                 0   \n",
      "4763                   0                       0                 0   \n",
      "4764                   0                       0                 0   \n",
      "4765                   0                       0                 0   \n",
      "4766                   0                       0                 0   \n",
      "4767                   0                       0                 0   \n",
      "4768                   0                       0                 0   \n",
      "4769                   0                       0                 0   \n",
      "4770                   0                       0                 0   \n",
      "4771                   0                       0                 0   \n",
      "4772                   0                       0                 0   \n",
      "4773                   0                       0                 0   \n",
      "4774                   0                       0                 0   \n",
      "4775                   0                       0                 0   \n",
      "4776                   0                       0                 0   \n",
      "4777                   0                       0                 0   \n",
      "4778                   0                       0                 0   \n",
      "4779                   0                       0                 0   \n",
      "4780                   0                       0                 0   \n",
      "4781                   0                       0                 0   \n",
      "4782                   0                       0                 0   \n",
      "4783                   0                       0                 0   \n",
      "4784                   0                       0                 0   \n",
      "4785                   0                       0                 0   \n",
      "4786                   0                       0                 0   \n",
      "4787                   0                       0                 0   \n",
      "4788                   0                       0                 0   \n",
      "\n",
      "      X_PRIORITY_HIGH  X_STORMPOST_TO  X_X_PRESENT  YOUR_INCOME  \n",
      "0                   0               0            0            0  \n",
      "1                   0               0            0            0  \n",
      "2                   0               0            0            0  \n",
      "3                   0               0            0            0  \n",
      "4                   0               0            0            0  \n",
      "5                   0               0            0            0  \n",
      "6                   0               0            0            0  \n",
      "7                   0               0            0            0  \n",
      "8                   0               0            0            0  \n",
      "9                   0               0            0            0  \n",
      "10                  0               0            0            0  \n",
      "11                  0               0            0            0  \n",
      "12                  0               0            0            0  \n",
      "13                  0               0            0            0  \n",
      "14                  0               0            0            0  \n",
      "15                  0               0            0            0  \n",
      "16                  0               0            0            0  \n",
      "17                  0               0            0            0  \n",
      "18                  0               0            0            0  \n",
      "19                  0               0            0            0  \n",
      "20                  0               0            0            0  \n",
      "21                  0               0            0            0  \n",
      "22                  0               0            0            0  \n",
      "23                  0               0            0            0  \n",
      "24                  0               0            0            0  \n",
      "25                  0               0            0            0  \n",
      "26                  0               0            0            0  \n",
      "27                  0               0            0            0  \n",
      "28                  0               0            0            0  \n",
      "29                  0               1            1            0  \n",
      "...               ...             ...          ...          ...  \n",
      "4759                0               0            0            0  \n",
      "4760                0               0            0            0  \n",
      "4761                0               0            0            0  \n",
      "4762                0               0            0            0  \n",
      "4763                0               0            0            0  \n",
      "4764                0               0            0            0  \n",
      "4765                0               0            0            0  \n",
      "4766                0               0            0            0  \n",
      "4767                0               0            0            0  \n",
      "4768                0               0            0            0  \n",
      "4769                0               0            0            0  \n",
      "4770                0               0            0            0  \n",
      "4771                0               0            0            0  \n",
      "4772                0               0            0            0  \n",
      "4773                0               0            0            0  \n",
      "4774                0               0            0            0  \n",
      "4775                0               0            0            0  \n",
      "4776                0               0            0            0  \n",
      "4777                0               0            0            0  \n",
      "4778                0               0            0            0  \n",
      "4779                0               0            0            0  \n",
      "4780                0               0            0            0  \n",
      "4781                0               0            0            0  \n",
      "4782                0               0            0            0  \n",
      "4783                0               0            0            0  \n",
      "4784                0               0            0            0  \n",
      "4785                0               0            0            0  \n",
      "4786                0               0            0            0  \n",
      "4787                0               0            0            0  \n",
      "4788                0               0            0            0  \n",
      "\n",
      "[4789 rows x 462 columns]\n",
      "['yes' 'no' 'yes' ... 'yes' 'no' 'yes']\n"
     ]
    }
   ],
   "source": [
    "import numpy as np\n",
    "import pandas as pd\n",
    "from sklearn.model_selection import cross_val_score, cross_val_predict\n",
    "from sklearn.utils import column_or_1d\n",
    "data = pd.read_csv('dane_dm/spam.dat', delimiter=',')\n",
    "x_data = data.loc[:, data.columns != 'target']\n",
    "target_data = column_or_1d(data.loc[:, data.columns == 'target'])\n",
    "print(x_data)\n",
    "print(target_data)"
   ]
  },
  {
   "cell_type": "markdown",
   "metadata": {},
   "source": [
    "### Feature selection\n",
    "Number of features in processed data is quite high. Probably only a part of them is usefull in a case of spam classification. To avoid unnecessary processing large amount of data I am goind to extract 100 *best* features and use only them in a classifier."
   ]
  },
  {
   "cell_type": "code",
   "execution_count": 74,
   "metadata": {},
   "outputs": [
    {
     "name": "stdout",
     "output_type": "stream",
     "text": [
      "(4789, 462)\n"
     ]
    }
   ],
   "source": [
    "from sklearn.feature_selection import SelectKBest, chi2\n",
    "print(x_data.shape)"
   ]
  },
  {
   "cell_type": "code",
   "execution_count": 75,
   "metadata": {},
   "outputs": [
    {
     "name": "stdout",
     "output_type": "stream",
     "text": [
      "(4789, 100)\n"
     ]
    }
   ],
   "source": [
    "x_k_best_chi = SelectKBest(chi2, k=100).fit_transform(x_data, target_data)\n",
    "print(x_k_best_chi.shape)"
   ]
  },
  {
   "cell_type": "markdown",
   "metadata": {},
   "source": [
    "### Classification\n",
    "\n",
    "#### Cross validation\n",
    "Since learning and testing using the same data is a mistake (because it makes classifiers useless with new data) I am using a cross-validation (CV). \n",
    "CV splits my training dataset into smaller sets (*k* sets) and then a model is trained with *k-1* sets and tested with the remaining one. This procedure repeats k times (for each iteration we are changing the testing set).\n",
    "\n",
    "#### Classification\n",
    "##### Decision Tree Classifier"
   ]
  },
  {
   "cell_type": "code",
   "execution_count": 95,
   "metadata": {},
   "outputs": [],
   "source": [
    "from sklearn.tree import DecisionTreeClassifier\n",
    "\n",
    "predictions = {}\n",
    "\n",
    "dct_classifier = DecisionTreeClassifier()\n",
    "# scores = cross_val_score(dct_classifier, x_k_best_chi, target_data, cv=10)\n",
    "# print(scores)\n",
    "# print(\"Accuracy: %0.2f (+/- %0.2f)\" % (scores.mean(), scores.std() * 2))\n",
    "prediction = cross_val_predict(dct_classifier, x_k_best_chi, target_data, cv=10)\n",
    "predictions['Decision Tree'] = prediction"
   ]
  },
  {
   "cell_type": "markdown",
   "metadata": {},
   "source": [
    "##### Multinomial Naive Bayes Classifier"
   ]
  },
  {
   "cell_type": "code",
   "execution_count": 96,
   "metadata": {},
   "outputs": [],
   "source": [
    "from sklearn.naive_bayes import MultinomialNB\n",
    "\n",
    "nb_classifier = MultinomialNB()\n",
    "# scores = cross_val_score(nb_classifier, x_k_best_chi, target_data, cv=10)\n",
    "# print(scores)\n",
    "# print(\"Accuracy: %0.2f (+/- %0.2f)\" % (scores.mean(), scores.std() * 2))\n",
    "prediction = cross_val_predict(dct_classifier, x_k_best_chi, target_data, cv=10)\n",
    "predictions['Multinomial Naive Bayes'] = prediction"
   ]
  },
  {
   "cell_type": "markdown",
   "metadata": {},
   "source": [
    "##### Support Vector Machine Classifier"
   ]
  },
  {
   "cell_type": "code",
   "execution_count": 97,
   "metadata": {},
   "outputs": [],
   "source": [
    "from sklearn import svm\n",
    "\n",
    "svm_classifier = svm.SVC(gamma='scale')\n",
    "# scores = cross_val_score(svm_classifier, x_k_best_chi, target_data, cv=10)\n",
    "# print(scores)\n",
    "# print(\"Accuracy: %0.2f (+/- %0.2f)\" % (scores.mean(), scores.std() * 2))\n",
    "prediction = cross_val_predict(dct_classifier, x_k_best_chi, target_data, cv=10)\n",
    "predictions['Support Vector Machines'] = prediction"
   ]
  },
  {
   "cell_type": "markdown",
   "metadata": {},
   "source": [
    "##### MLP Classifier (Neural Network)"
   ]
  },
  {
   "cell_type": "code",
   "execution_count": 98,
   "metadata": {},
   "outputs": [],
   "source": [
    "from sklearn.neural_network import MLPClassifier\n",
    "\n",
    "mlp_classifier = MLPClassifier(solver='lbfgs')\n",
    "prediction = cross_val_predict(mlp_classifier, x_k_best_chi, target_data, cv=10)\n",
    "predictions['MLP Neural Network'] = prediction"
   ]
  },
  {
   "cell_type": "markdown",
   "metadata": {},
   "source": [
    "#### Measures\n",
    "##### Regular accuracy\n",
    "\n",
    "##### Confusion Matrix\n"
   ]
  },
  {
   "cell_type": "code",
   "execution_count": 99,
   "metadata": {},
   "outputs": [
    {
     "name": "stdout",
     "output_type": "stream",
     "text": [
      "{'Decision Tree': array(['yes', 'no', 'yes', ..., 'yes', 'no', 'yes'], dtype=object), 'Multinomial Naive Bayes': array(['yes', 'no', 'yes', ..., 'yes', 'no', 'yes'], dtype=object), 'Support Vector Machines': array(['yes', 'no', 'yes', ..., 'yes', 'no', 'yes'], dtype=object), 'MLP Neural Network': array(['yes', 'no', 'yes', ..., 'yes', 'no', 'yes'], dtype='<U3')}\n",
      "Normalized confusion matrix\n",
      "[[0.99 0.01]\n",
      " [0.05 0.95]]\n"
     ]
    },
    {
     "data": {
      "image/png": "[encoded data removed]",
      "text/plain": [
       "<Figure size 432x288 with 2 Axes>"
      ]
     },
     "metadata": {
      "needs_background": "light"
     },
     "output_type": "display_data"
    },
    {
     "name": "stdout",
     "output_type": "stream",
     "text": [
      "Normalized confusion matrix\n",
      "[[0.99 0.01]\n",
      " [0.05 0.95]]\n"
     ]
    },
    {
     "data": {
      "image/png": "[encoded data removed]",
      "text/plain": [
       "<Figure size 432x288 with 2 Axes>"
      ]
     },
     "metadata": {
      "needs_background": "light"
     },
     "output_type": "display_data"
    },
    {
     "name": "stdout",
     "output_type": "stream",
     "text": [
      "Normalized confusion matrix\n",
      "[[0.99 0.01]\n",
      " [0.05 0.95]]\n"
     ]
    },
    {
     "data": {
      "image/png": "[encoded data removed]",
      "text/plain": [
       "<Figure size 432x288 with 2 Axes>"
      ]
     },
     "metadata": {
      "needs_background": "light"
     },
     "output_type": "display_data"
    },
    {
     "name": "stdout",
     "output_type": "stream",
     "text": [
      "Normalized confusion matrix\n",
      "[[0.99 0.01]\n",
      " [0.04 0.96]]\n"
     ]
    },
    {
     "data": {
      "image/png": "[encoded data removed]",
      "text/plain": [
       "<Figure size 432x288 with 2 Axes>"
      ]
     },
     "metadata": {
      "needs_background": "light"
     },
     "output_type": "display_data"
    }
   ],
   "source": [
    "import matplotlib.pyplot as plt\n",
    "import itertools\n",
    "from sklearn.metrics import confusion_matrix\n",
    "\n",
    "class_names = ['yes', 'no']\n",
    "# Code for confusion matrix: https://scikit-learn.org/stable/auto_examples/model_selection/plot_confusion_matrix.html\n",
    "def plot_confusion_matrix(cm, classes,\n",
    "                          normalize=False,\n",
    "                          title='Confusion matrix',\n",
    "                          cmap=plt.cm.Blues):\n",
    "    \"\"\"\n",
    "    This function prints and plots the confusion matrix.\n",
    "    Normalization can be applied by setting `normalize=True`.\n",
    "    \"\"\"\n",
    "    if normalize:\n",
    "        cm = cm.astype('float') / cm.sum(axis=1)[:, np.newaxis]\n",
    "        print(\"Normalized confusion matrix\")\n",
    "    else:\n",
    "        print('Confusion matrix, without normalization')\n",
    "\n",
    "    print(cm)\n",
    "\n",
    "    plt.imshow(cm, interpolation='nearest', cmap=cmap)\n",
    "    plt.title(title)\n",
    "    plt.colorbar()\n",
    "    tick_marks = np.arange(len(classes))\n",
    "    plt.xticks(tick_marks, classes, rotation=45)\n",
    "    plt.yticks(tick_marks, classes)\n",
    "\n",
    "    fmt = '.2f' if normalize else 'd'\n",
    "    thresh = cm.max() / 2.\n",
    "    for i, j in itertools.product(range(cm.shape[0]), range(cm.shape[1])):\n",
    "        plt.text(j, i, format(cm[i, j], fmt),\n",
    "                 horizontalalignment=\"center\",\n",
    "                 color=\"white\" if cm[i, j] > thresh else \"black\")\n",
    "\n",
    "    plt.ylabel('True label')\n",
    "    plt.xlabel('Predicted label')\n",
    "    plt.tight_layout()\n",
    "\n",
    "\n",
    "def show_confusion_matrix(y_test, y_pred, method_title):\n",
    "    # Compute confusion matrix\n",
    "    cnf_matrix = confusion_matrix(y_test, y_pred)\n",
    "    np.set_printoptions(precision=2)\n",
    "\n",
    "    # Plot normalized confusion matrix\n",
    "    plt.figure()\n",
    "    plot_confusion_matrix(cnf_matrix, classes=class_names, normalize=True,\n",
    "                          title=method_title)\n",
    "\n",
    "    plt.show()\n",
    "\n",
    "for k, p in predictions.items():\n",
    "    show_confusion_matrix(target_data, p, k)"
   ]
  },
  {
   "cell_type": "code",
   "execution_count": null,
   "metadata": {},
   "outputs": [],
   "source": []
  }
 ],
 "metadata": {
  "kernelspec": {
   "display_name": "Python 3",
   "language": "python",
   "name": "python3"
  },
  "language_info": {
   "codemirror_mode": {
    "name": "ipython",
    "version": 3
   },
   "file_extension": ".py",
   "mimetype": "text/x-python",
   "name": "python",
   "nbconvert_exporter": "python",
   "pygments_lexer": "ipython3",
   "version": "3.7.1"
  }
 },
 "nbformat": 4,
 "nbformat_minor": 2
}
